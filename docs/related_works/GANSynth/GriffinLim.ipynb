{
 "cells": [
  {
   "cell_type": "code",
   "execution_count": null,
   "metadata": {},
   "outputs": [],
   "source": [
    "import os\n",
    "os.environ['CUDA_DIVICE_ORDER']='PCI_BUS_ID'\n",
    "os.environ['CUDA_VISIBLE_DEVICES']='1'\n",
    "\n",
    "import librosa\n",
    "import librosa.display\n",
    "import tensorflow as tf\n",
    "import numpy as np\n",
    "import matplotlib.pyplot as plt\n",
    "from scipy.spatial.distance import euclidean\n",
    "from specgrams_helper import SpecgramsHelper\n",
    "\n",
    "fname = 'sample.wav'"
   ]
  },
  {
   "cell_type": "code",
   "execution_count": null,
   "metadata": {},
   "outputs": [],
   "source": [
    "def one_to_three(one_dim):\n",
    "    two_dim = np.expand_dims(one_dim, axis=0)\n",
    "    three_dim = np.expand_dims(two_dim, axis=-1)\n",
    "    return three_dim"
   ]
  },
  {
   "cell_type": "code",
   "execution_count": null,
   "metadata": {},
   "outputs": [],
   "source": [
    "audio_original, sample_rate = librosa.load(\n",
    "    path='./' + fname,\n",
    "    sr=16000,\n",
    "    mono=True,\n",
    "    duration=None\n",
    ")"
   ]
  },
  {
   "cell_type": "markdown",
   "metadata": {},
   "source": [
    "## Define SpecgramsHelper class instance"
   ]
  },
  {
   "cell_type": "code",
   "execution_count": null,
   "metadata": {},
   "outputs": [],
   "source": [
    "A = SpecgramsHelper(\n",
    "    audio_length=64000,\n",
    "    spec_shape=(256, 512),\n",
    "    overlap=0.75,\n",
    "    sample_rate=16000,    \n",
    "    mel_downscale=2\n",
    ")"
   ]
  },
  {
   "cell_type": "markdown",
   "metadata": {},
   "source": [
    "## Convert Wave file to STFT spectrogram"
   ]
  },
  {
   "cell_type": "code",
   "execution_count": null,
   "metadata": {},
   "outputs": [],
   "source": [
    "tensor_specgram = A.waves_to_specgrams(one_to_three(audio_original))\n",
    "specgram = tf.Session().run(tensor_specgram)"
   ]
  },
  {
   "cell_type": "code",
   "execution_count": null,
   "metadata": {},
   "outputs": [],
   "source": [
    "logmag = specgram[0, :, :, 0]\n",
    "phase = specgram[0, :, :, 1]\n",
    "\n",
    "print(\"Log Mag shape: \\t\\t\" + str(logmag.shape))\n",
    "print(\"Log Phase shape: \\t\" + str(phase.shape))\n",
    "\n",
    "librosa.display.specshow(\n",
    "    logmag,\n",
    "    sr=sample_rate,\n",
    "    fmax=sample_rate//2\n",
    ")\n",
    "plt.title(\"Log Magnitude\")\n",
    "plt.tight_layout()\n",
    "plt.show()\n",
    "\n",
    "librosa.display.specshow(\n",
    "    phase,\n",
    "    sr=sample_rate,\n",
    "    fmax=sample_rate//2\n",
    ")\n",
    "plt.title(\"Log Phase\")\n",
    "plt.tight_layout()\n",
    "plt.show()"
   ]
  },
  {
   "cell_type": "markdown",
   "metadata": {},
   "source": [
    "## Convert Spectrogram to STFT matrix"
   ]
  },
  {
   "cell_type": "code",
   "execution_count": null,
   "metadata": {},
   "outputs": [],
   "source": [
    "tensor_stft = A.specgrams_to_stfts(tensor_specgram)\n",
    "tensor_wav = A.stfts_to_waves(tensor_stft)\n",
    "audio_restored = tf.Session().run(tensor_wav)[0,:,0]\n",
    "\n",
    "# librosa.output.write_wav('./restored.wav', audio_restored, sample_rate)\n",
    "dist = euclidean(audio_original, audio_restored)\n",
    "print(dist)"
   ]
  },
  {
   "cell_type": "code",
   "execution_count": null,
   "metadata": {
    "scrolled": false
   },
   "outputs": [],
   "source": [
    "from pre_process import PreProcessor\n",
    "\n",
    "dist_list = []\n",
    "wav_dir = './NSynth'\n",
    "\n",
    "P = PreProcessor()\n",
    "P.get_dist_meanstd(wav_dir, dist_list=dist_list)"
   ]
  },
  {
   "cell_type": "code",
   "execution_count": null,
   "metadata": {},
   "outputs": [],
   "source": []
  }
 ],
 "metadata": {
  "kernelspec": {
   "display_name": "Python 3",
   "language": "python",
   "name": "python3"
  },
  "language_info": {
   "codemirror_mode": {
    "name": "ipython",
    "version": 3
   },
   "file_extension": ".py",
   "mimetype": "text/x-python",
   "name": "python",
   "nbconvert_exporter": "python",
   "pygments_lexer": "ipython3",
   "version": "3.5.0"
  }
 },
 "nbformat": 4,
 "nbformat_minor": 2
}
