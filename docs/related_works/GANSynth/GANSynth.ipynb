{
 "cells": [
  {
   "cell_type": "markdown",
   "metadata": {},
   "source": [
    "# GANSynth\n",
    "\n",
    "## Abstract\n",
    "\n",
    " 효율적인 오디오 합성은 인간의 인식이 글로벌 구조와 미세한 파형 일관성 모두에 민감하기 때문에 본질적으로 어려운 기계학습 작업이다. `WaveNet`과 같은 `자동회귀분석` 모델은 로컬 구조를 모델링하지만 반복 샘플링이 느리고 global latent 구조가 부족하다. 대조적으로, GAN은 global latent 컨디셔닝 및 효율적인 병렬 샘플링을 갖지만 로컬로 일관된 오디오 파형을 생성하는데 어려움을 겪는다. 여기서, 우리는 GAN이 실제로 스펙트럼 영역에서 충분한 주파수 해상도를 가진 log magnitude와 순간 주차수를 모델링함으로써 `high-fidelity`와 locally-coherent한 오디오를 생성할 수 있음을 입증한다. NSynth 데이터 세트에 대한 광범위한 경험적 조사를 통해 GAN이 자동화 및 human evaluation metrics에서 강력한 `WaveNet` 기준을 능가하고 `자동회귀분석`보다 몇 배 더 빠르게 오디오를 효율적으로 생성할 수 있음을 보여준다.\n"
   ]
  },
  {
   "cell_type": "markdown",
   "metadata": {},
   "source": [
    "## 1. Introduction\n",
    "\n",
    " `high-fidelity` 및 `global structure`를 모두 갖춘 오디오를 효율적으로 생성하기 위해 생성 모델을 학습하는 `Neural audio synthesis`는 최소 5 차례에 걸쳐 시간 스케일을 모델링해야하므로 어려운 열린 문제이다(`~0.1ms to ~100s`). 최첨단 기술의 큰 발전은 WaveNet과 같은 `자동회귀모델`에 의해 개척되었는데, 이 모델들은 가능한 최고의 스케일(단일 오디오 샘플)에 중점을 두어 `global structure`를 위한 외부 조건 신호에 의존함으로써 스케일 문제를 해결한다. 이는 한 번에 하나의 오디오 샘플에 파형을 생성하기 위해 비효율적인 `ancestral sampling`에 의존하기 때문에 샘플링 속도가 느려진다. 높은 품질로 인해 많은 연구가 가속화되고 있지만, 그 방법들은 `secondary student network` 훈련 또는 고도로 `customized` 된 저수준 커널 작성과 같은 상당한 오버헤드를 발생시킨다. 더욱이 이러한 큰 모델은 `fine timescale` 단위로 작동하기 때문에 `autoencoder` 변형은 메모리 제약으로 인해 `local latent structure`만 모델링하도록 제한된다.\n",
    " \n",
    " 반면, `GAN`은 고해상도 이미지를 생성하는데 최근 큰 성공을 거두었다. 일반적인 `GAN`은 `latent vector`에서 변환된 콘볼루션의 스택을 조절함으로써 효율적인 병렬 샘플링과 `global latent`제어 모두를 달성한다. `adversarial cost`로 인해 오디오에 아날로그가 있을 수 있는 이미지에 대한 흥미로운 도메인 변환이 가능해지면서 오디오 `GAN`의 잠재력이 더욱 확대된다. 그러나, 이미지 `GAN` 아키텍처를 조정하여 간단한 방식으로 파형을 생성하려는 시도는 이미지 대응물과 동일한 수준의 `perceptual fidelity`에 도달하지 못한다."
   ]
  }
 ],
 "metadata": {
  "kernelspec": {
   "display_name": "Python 3",
   "language": "python",
   "name": "python3"
  },
  "language_info": {
   "codemirror_mode": {
    "name": "ipython",
    "version": 3
   },
   "file_extension": ".py",
   "mimetype": "text/x-python",
   "name": "python",
   "nbconvert_exporter": "python",
   "pygments_lexer": "ipython3",
   "version": "3.5.0"
  }
 },
 "nbformat": 4,
 "nbformat_minor": 2
}
